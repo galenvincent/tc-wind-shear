{
 "metadata": {
  "language_info": {
   "codemirror_mode": {
    "name": "ipython",
    "version": 3
   },
   "file_extension": ".py",
   "mimetype": "text/x-python",
   "name": "python",
   "nbconvert_exporter": "python",
   "pygments_lexer": "ipython3",
   "version": "3.7.9"
  },
  "orig_nbformat": 2,
  "kernelspec": {
   "name": "python3",
   "display_name": "Python 3.7.9 64-bit ('ada': conda)"
  },
  "interpreter": {
   "hash": "48e54eb9f45e89e6b56c4afa944334c31aa412b5314f07bc0b53879b9c3377cf"
  }
 },
 "nbformat": 4,
 "nbformat_minor": 2,
 "cells": [
  {
   "cell_type": "code",
   "execution_count": 14,
   "metadata": {},
   "outputs": [],
   "source": [
    "import pandas as pd\n",
    "import numpy as np\n",
    "import xarray as xr\n",
    "\n",
    "import hurdat as h\n",
    "import tc_functions as fun\n",
    "import plotting_functions as tcplt\n",
    "\n",
    "import os"
   ]
  },
  {
   "cell_type": "code",
   "execution_count": 15,
   "metadata": {},
   "outputs": [
    {
     "output_type": "stream",
     "name": "stderr",
     "text": [
      "/Users/galen/anaconda3/envs/ada/lib/python3.7/site-packages/pandas/core/indexing.py:670: SettingWithCopyWarning: \nA value is trying to be set on a copy of a slice from a DataFrame\n\nSee the caveats in the documentation: https://pandas.pydata.org/pandas-docs/stable/user_guide/indexing.html#returning-a-view-versus-a-copy\n  self._setitem_with_indexer(indexer, value)\n"
     ]
    }
   ],
   "source": [
    "# Get Kim's raw data and import while applying different RI cutoffs\n",
    "nal_15 = pd.read_table(\"data/DTL_NAL_2015.txt\", delimiter = ' ')\n",
    "nal_16 = pd.read_table(\"data/DTL_NAL_2016.txt\", delimiter = ' ')\n",
    "nal_17 = pd.read_table(\"data/DTL_NAL_2017.txt\", delimiter = ' ')\n",
    "nal_18 = pd.read_table(\"data/DTL_NAL_2018.txt\", delimiter = ' ')\n",
    "nal_19 = pd.read_table(\"data/DTL_NAL_2019.txt\", delimiter = ' ')\n",
    "enp_15 = pd.read_table(\"data/DTL_ENP_2015.txt\", delimiter = ' ')\n",
    "enp_16 = pd.read_table(\"data/DTL_ENP_2016.txt\", delimiter = ' ')\n",
    "enp_17 = pd.read_table(\"data/DTL_ENP_2017.txt\", delimiter = ' ')\n",
    "enp_18 = pd.read_table(\"data/DTL_ENP_2018.txt\", delimiter = ' ')\n",
    "enp_19 = pd.read_table(\"data/DTL_ENP_2019.txt\", delimiter = ' ')\n",
    "total = pd.concat([nal_15, nal_16, nal_17, nal_18, nal_19, enp_15, enp_16, enp_17, enp_18, enp_19], ignore_index = True)\n",
    "\n",
    "total.columns = ['YEAR', \"PART_ID\", \"NAME\", \"DATETIME\", \"LAT\", \"LON\", \"WIND\", \"PRESSURE\", \"CATEGORY\", \"DISTANCE\"]\n",
    "\n",
    "total['DATETIME'] = pd.to_datetime(total['DATETIME'], format = \"%Y%m%d%H\")\n",
    "total['NAME'] = total['NAME'].str.upper()\n",
    "name_convert = {'UNNAMED04': 'FOUR', \n",
    "                'UNNAMED11': 'ELEVEN',\n",
    "                'UNNAMED08': 'EIGHT'}\n",
    "total['NAME'].loc[total['NAME'].str.contains('UNNAMED')] = [name_convert[x] for x in total['NAME'].loc[total['NAME'].str.contains('UNNAMED')]]\n",
    "total['ID'] = total['PART_ID'] + total['YEAR'].astype(str)\n",
    "hurdat_all = h.Hurdat(data = total)\n",
    "# Filter storms by minimum intensity of 50\n",
    "hurdat = hurdat_all.genesis_to_lysis_filter(minimum_wind = 50)\n",
    "# Add RI / RW labels to all storm observations\n",
    "hurdat.identify_events(threshold = 25, col_names = ['25+', '25-'])\n",
    "hurdat.identify_events(threshold = 15, col_names = ['15+', '15-'])\n",
    "# Add 250 km from land restriction as a column\n",
    "hurdat.distance_to_land_label(min_distance = 250)"
   ]
  },
  {
   "cell_type": "code",
   "execution_count": 16,
   "metadata": {},
   "outputs": [],
   "source": [
    "hurdat.storms['15-25'] = (hurdat.storms['15+'] & (~hurdat.storms['25+']))\n",
    "hurdat.storms['m15-15'] = ~(hurdat.storms['25-'] | hurdat.storms['15-'] | hurdat.storms['15+'] | hurdat.storms['25+'])\n",
    "hurdat.storms['m25-m15'] = (hurdat.storms['15-'] & (~hurdat.storms['25-']))"
   ]
  },
  {
   "cell_type": "code",
   "execution_count": 17,
   "metadata": {},
   "outputs": [],
   "source": [
    "hurdat.drop_leading()"
   ]
  },
  {
   "cell_type": "code",
   "execution_count": 18,
   "metadata": {},
   "outputs": [],
   "source": [
    "storm_data = hurdat.storms"
   ]
  },
  {
   "cell_type": "code",
   "execution_count": 19,
   "metadata": {},
   "outputs": [],
   "source": [
    "jj = 0\n",
    "storm_id = ''\n",
    "storm_index = []\n",
    "for ii in range(len(storm_data)):\n",
    "    curr_id = storm_data['ID'][ii]\n",
    "    if curr_id != storm_id:\n",
    "        storm_id = curr_id\n",
    "        jj = 0\n",
    "        storm_index.append(jj)\n",
    "    else:\n",
    "        jj = jj + 1\n",
    "        storm_index.append(jj)"
   ]
  },
  {
   "cell_type": "code",
   "execution_count": 20,
   "metadata": {},
   "outputs": [],
   "source": [
    "storm_data['storm_index'] = storm_index"
   ]
  },
  {
   "cell_type": "code",
   "execution_count": 21,
   "metadata": {},
   "outputs": [],
   "source": [
    "def get_ic(x):\n",
    "    id = str(x['ID'])\n",
    "    strm_id = str(x['storm_index'])\n",
    "    root = 'data/int_circ_vortex/' # CHANGE IF YOU WANT VORTEX REMOVED 6/21\n",
    "    ic = np.load(root + id + '_' + strm_id + '.npy')\n",
    "    #return np.nanmean(ic)\n",
    "    return np.nanmin(ic)"
   ]
  },
  {
   "cell_type": "code",
   "execution_count": 22,
   "metadata": {},
   "outputs": [],
   "source": [
    "storm_data['ic'] = storm_data.apply(get_ic, axis = 1)"
   ]
  },
  {
   "cell_type": "code",
   "execution_count": 23,
   "metadata": {},
   "outputs": [],
   "source": [
    "ids = pd.unique(storm_data['ID'])\n",
    "data = pd.DataFrame(columns=['storm', 'wind', 'RI', 'shear'])\n",
    "ii = 1\n",
    "for id in ids:\n",
    "    f = xr.open_dataset('data/profiles_vortex/prof_' + id + '.nc') # CHANGE IF YOU WANT VORTEX REMOVED 6/21\n",
    "    data = data.append( pd.DataFrame( np.column_stack( ( ii*np.ones(f.wind.values.size), f.wind.values, f.ri.values, f.shear_mag.values ) ), columns=['storm', 'wind', 'RI', 'shear'] ), ignore_index = True )\n",
    "    ii += 1"
   ]
  },
  {
   "cell_type": "code",
   "execution_count": 24,
   "metadata": {},
   "outputs": [],
   "source": [
    "storm_data['shear'] = data['shear']"
   ]
  },
  {
   "cell_type": "code",
   "execution_count": 12,
   "metadata": {},
   "outputs": [
    {
     "output_type": "execute_result",
     "data": {
      "text/plain": [
       "      YEAR PART_ID    NAME            DATETIME   LAT    LON  WIND  PRESSURE  \\\n",
       "0     2015    AL01     ANA 2015-05-09 00:00:00  31.9  -77.3    50       998   \n",
       "1     2015    AL01     ANA 2015-05-09 06:00:00  32.2  -77.5    50       998   \n",
       "2     2015    AL01     ANA 2015-05-09 12:00:00  32.5  -77.8    50      1001   \n",
       "3     2015    AL02    BILL 2015-06-16 12:00:00  28.0  -96.0    50       997   \n",
       "4     2015    AL02    BILL 2015-06-16 18:00:00  28.2  -96.7    50       997   \n",
       "...    ...     ...     ...                 ...   ...    ...   ...       ...   \n",
       "2552  2019    EP15  LORENA 2019-09-20 12:00:00  22.6 -108.8    65       989   \n",
       "2553  2019    EP15  LORENA 2019-09-20 18:00:00  23.0 -109.2    75       986   \n",
       "2554  2019    EP15  LORENA 2019-09-21 00:00:00  23.7 -109.5    70       987   \n",
       "2555  2019    EP15  LORENA 2019-09-21 06:00:00  24.2 -110.2    60       989   \n",
       "2556  2019    EP15  LORENA 2019-09-21 12:00:00  25.0 -110.6    55       994   \n",
       "\n",
       "     CATEGORY  DISTANCE  ...    25-    15+    15-  NEAR_LAND  15-25  m15-15  \\\n",
       "0          SS       229  ...  False  False  False       True  False    True   \n",
       "1          TS       194  ...  False  False  False       True  False    True   \n",
       "2          TS       152  ...  False  False  False       True  False    True   \n",
       "3          TS        67  ...  False  False  False       True  False    True   \n",
       "4          TS         8  ...  False  False  False       True  False    True   \n",
       "...       ...       ...  ...    ...    ...    ...        ...    ...     ...   \n",
       "2552       HU        98  ...  False   True  False       True   True   False   \n",
       "2553       HU        38  ...  False   True   True       True   True   False   \n",
       "2554       HU        13  ...  False  False   True       True  False   False   \n",
       "2555       TS         0  ...  False  False   True       True  False   False   \n",
       "2556       TS         0  ...  False  False   True       True  False   False   \n",
       "\n",
       "      m25-m15  storm_index        ic      shear  \n",
       "0       False            0  0.137210   7.039532  \n",
       "1       False            1  0.069817  10.223293  \n",
       "2       False            2  0.017772  11.931145  \n",
       "3       False            0 -0.236435   8.666265  \n",
       "4       False            1 -0.266149   8.549295  \n",
       "...       ...          ...       ...        ...  \n",
       "2552    False            9 -0.328470   2.270408  \n",
       "2553     True           10 -0.364039   2.131797  \n",
       "2554     True           11 -0.356363   3.087351  \n",
       "2555     True           12 -0.321296   2.762481  \n",
       "2556     True           13 -0.328483   5.141739  \n",
       "\n",
       "[2557 rows x 22 columns]"
      ],
      "text/html": "<div>\n<style scoped>\n    .dataframe tbody tr th:only-of-type {\n        vertical-align: middle;\n    }\n\n    .dataframe tbody tr th {\n        vertical-align: top;\n    }\n\n    .dataframe thead th {\n        text-align: right;\n    }\n</style>\n<table border=\"1\" class=\"dataframe\">\n  <thead>\n    <tr style=\"text-align: right;\">\n      <th></th>\n      <th>YEAR</th>\n      <th>PART_ID</th>\n      <th>NAME</th>\n      <th>DATETIME</th>\n      <th>LAT</th>\n      <th>LON</th>\n      <th>WIND</th>\n      <th>PRESSURE</th>\n      <th>CATEGORY</th>\n      <th>DISTANCE</th>\n      <th>...</th>\n      <th>25-</th>\n      <th>15+</th>\n      <th>15-</th>\n      <th>NEAR_LAND</th>\n      <th>15-25</th>\n      <th>m15-15</th>\n      <th>m25-m15</th>\n      <th>storm_index</th>\n      <th>ic</th>\n      <th>shear</th>\n    </tr>\n  </thead>\n  <tbody>\n    <tr>\n      <th>0</th>\n      <td>2015</td>\n      <td>AL01</td>\n      <td>ANA</td>\n      <td>2015-05-09 00:00:00</td>\n      <td>31.9</td>\n      <td>-77.3</td>\n      <td>50</td>\n      <td>998</td>\n      <td>SS</td>\n      <td>229</td>\n      <td>...</td>\n      <td>False</td>\n      <td>False</td>\n      <td>False</td>\n      <td>True</td>\n      <td>False</td>\n      <td>True</td>\n      <td>False</td>\n      <td>0</td>\n      <td>0.137210</td>\n      <td>7.039532</td>\n    </tr>\n    <tr>\n      <th>1</th>\n      <td>2015</td>\n      <td>AL01</td>\n      <td>ANA</td>\n      <td>2015-05-09 06:00:00</td>\n      <td>32.2</td>\n      <td>-77.5</td>\n      <td>50</td>\n      <td>998</td>\n      <td>TS</td>\n      <td>194</td>\n      <td>...</td>\n      <td>False</td>\n      <td>False</td>\n      <td>False</td>\n      <td>True</td>\n      <td>False</td>\n      <td>True</td>\n      <td>False</td>\n      <td>1</td>\n      <td>0.069817</td>\n      <td>10.223293</td>\n    </tr>\n    <tr>\n      <th>2</th>\n      <td>2015</td>\n      <td>AL01</td>\n      <td>ANA</td>\n      <td>2015-05-09 12:00:00</td>\n      <td>32.5</td>\n      <td>-77.8</td>\n      <td>50</td>\n      <td>1001</td>\n      <td>TS</td>\n      <td>152</td>\n      <td>...</td>\n      <td>False</td>\n      <td>False</td>\n      <td>False</td>\n      <td>True</td>\n      <td>False</td>\n      <td>True</td>\n      <td>False</td>\n      <td>2</td>\n      <td>0.017772</td>\n      <td>11.931145</td>\n    </tr>\n    <tr>\n      <th>3</th>\n      <td>2015</td>\n      <td>AL02</td>\n      <td>BILL</td>\n      <td>2015-06-16 12:00:00</td>\n      <td>28.0</td>\n      <td>-96.0</td>\n      <td>50</td>\n      <td>997</td>\n      <td>TS</td>\n      <td>67</td>\n      <td>...</td>\n      <td>False</td>\n      <td>False</td>\n      <td>False</td>\n      <td>True</td>\n      <td>False</td>\n      <td>True</td>\n      <td>False</td>\n      <td>0</td>\n      <td>-0.236435</td>\n      <td>8.666265</td>\n    </tr>\n    <tr>\n      <th>4</th>\n      <td>2015</td>\n      <td>AL02</td>\n      <td>BILL</td>\n      <td>2015-06-16 18:00:00</td>\n      <td>28.2</td>\n      <td>-96.7</td>\n      <td>50</td>\n      <td>997</td>\n      <td>TS</td>\n      <td>8</td>\n      <td>...</td>\n      <td>False</td>\n      <td>False</td>\n      <td>False</td>\n      <td>True</td>\n      <td>False</td>\n      <td>True</td>\n      <td>False</td>\n      <td>1</td>\n      <td>-0.266149</td>\n      <td>8.549295</td>\n    </tr>\n    <tr>\n      <th>...</th>\n      <td>...</td>\n      <td>...</td>\n      <td>...</td>\n      <td>...</td>\n      <td>...</td>\n      <td>...</td>\n      <td>...</td>\n      <td>...</td>\n      <td>...</td>\n      <td>...</td>\n      <td>...</td>\n      <td>...</td>\n      <td>...</td>\n      <td>...</td>\n      <td>...</td>\n      <td>...</td>\n      <td>...</td>\n      <td>...</td>\n      <td>...</td>\n      <td>...</td>\n      <td>...</td>\n    </tr>\n    <tr>\n      <th>2552</th>\n      <td>2019</td>\n      <td>EP15</td>\n      <td>LORENA</td>\n      <td>2019-09-20 12:00:00</td>\n      <td>22.6</td>\n      <td>-108.8</td>\n      <td>65</td>\n      <td>989</td>\n      <td>HU</td>\n      <td>98</td>\n      <td>...</td>\n      <td>False</td>\n      <td>True</td>\n      <td>False</td>\n      <td>True</td>\n      <td>True</td>\n      <td>False</td>\n      <td>False</td>\n      <td>9</td>\n      <td>-0.328470</td>\n      <td>2.270408</td>\n    </tr>\n    <tr>\n      <th>2553</th>\n      <td>2019</td>\n      <td>EP15</td>\n      <td>LORENA</td>\n      <td>2019-09-20 18:00:00</td>\n      <td>23.0</td>\n      <td>-109.2</td>\n      <td>75</td>\n      <td>986</td>\n      <td>HU</td>\n      <td>38</td>\n      <td>...</td>\n      <td>False</td>\n      <td>True</td>\n      <td>True</td>\n      <td>True</td>\n      <td>True</td>\n      <td>False</td>\n      <td>True</td>\n      <td>10</td>\n      <td>-0.364039</td>\n      <td>2.131797</td>\n    </tr>\n    <tr>\n      <th>2554</th>\n      <td>2019</td>\n      <td>EP15</td>\n      <td>LORENA</td>\n      <td>2019-09-21 00:00:00</td>\n      <td>23.7</td>\n      <td>-109.5</td>\n      <td>70</td>\n      <td>987</td>\n      <td>HU</td>\n      <td>13</td>\n      <td>...</td>\n      <td>False</td>\n      <td>False</td>\n      <td>True</td>\n      <td>True</td>\n      <td>False</td>\n      <td>False</td>\n      <td>True</td>\n      <td>11</td>\n      <td>-0.356363</td>\n      <td>3.087351</td>\n    </tr>\n    <tr>\n      <th>2555</th>\n      <td>2019</td>\n      <td>EP15</td>\n      <td>LORENA</td>\n      <td>2019-09-21 06:00:00</td>\n      <td>24.2</td>\n      <td>-110.2</td>\n      <td>60</td>\n      <td>989</td>\n      <td>TS</td>\n      <td>0</td>\n      <td>...</td>\n      <td>False</td>\n      <td>False</td>\n      <td>True</td>\n      <td>True</td>\n      <td>False</td>\n      <td>False</td>\n      <td>True</td>\n      <td>12</td>\n      <td>-0.321296</td>\n      <td>2.762481</td>\n    </tr>\n    <tr>\n      <th>2556</th>\n      <td>2019</td>\n      <td>EP15</td>\n      <td>LORENA</td>\n      <td>2019-09-21 12:00:00</td>\n      <td>25.0</td>\n      <td>-110.6</td>\n      <td>55</td>\n      <td>994</td>\n      <td>TS</td>\n      <td>0</td>\n      <td>...</td>\n      <td>False</td>\n      <td>False</td>\n      <td>True</td>\n      <td>True</td>\n      <td>False</td>\n      <td>False</td>\n      <td>True</td>\n      <td>13</td>\n      <td>-0.328483</td>\n      <td>5.141739</td>\n    </tr>\n  </tbody>\n</table>\n<p>2557 rows × 22 columns</p>\n</div>"
     },
     "metadata": {},
     "execution_count": 12
    }
   ],
   "source": [
    "storm_data"
   ]
  },
  {
   "cell_type": "code",
   "execution_count": 25,
   "metadata": {},
   "outputs": [],
   "source": [
    "storm_data.to_csv('data/int_circ_min_summary_detailed_vortex.csv', index = False)"
   ]
  },
  {
   "cell_type": "code",
   "execution_count": null,
   "metadata": {},
   "outputs": [],
   "source": []
  }
 ]
}