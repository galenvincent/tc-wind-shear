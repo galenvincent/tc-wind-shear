{
 "metadata": {
  "language_info": {
   "codemirror_mode": {
    "name": "ipython",
    "version": 3
   },
   "file_extension": ".py",
   "mimetype": "text/x-python",
   "name": "python",
   "nbconvert_exporter": "python",
   "pygments_lexer": "ipython3",
   "version": "3.7.9-final"
  },
  "orig_nbformat": 2,
  "kernelspec": {
   "name": "python3",
   "display_name": "Python 3.7.9 64-bit",
   "metadata": {
    "interpreter": {
     "hash": "64f019c65d8f66534a71aafe2cfc1eb141de9f53b0502c5ec32c1c57d2bc0cff"
    }
   }
  }
 },
 "nbformat": 4,
 "nbformat_minor": 2,
 "cells": [
  {
   "cell_type": "code",
   "execution_count": 1,
   "metadata": {},
   "outputs": [],
   "source": [
    "import tc_functions as fun\n",
    "import pandas as pd\n",
    "\n",
    "import importlib.util\n",
    "spec = importlib.util.spec_from_file_location(\"hurdat\", \"../ORB/python/convective-structure/hurdat.py\")\n",
    "h = importlib.util.module_from_spec(spec)\n",
    "spec.loader.exec_module(h)"
   ]
  },
  {
   "cell_type": "code",
   "execution_count": 2,
   "metadata": {},
   "outputs": [],
   "source": [
    "# Import storms since 2015 from Kim's dataset that includes shortest distance to land, and do some maneuvering to make\n",
    "# things closer to the HURDAT data straight from the website for east integration with the Hurdat() class (like column names, \n",
    "# naming convention for unnamed storms, and some additional columns)\n",
    "nal_15 = pd.read_table(\"data/DTL_NAL_2015.txt\", delimiter = ' ')\n",
    "nal_16 = pd.read_table(\"data/DTL_NAL_2016.txt\", delimiter = ' ')\n",
    "nal_17 = pd.read_table(\"data/DTL_NAL_2017.txt\", delimiter = ' ')\n",
    "nal_18 = pd.read_table(\"data/DTL_NAL_2018.txt\", delimiter = ' ')\n",
    "nal_19 = pd.read_table(\"data/DTL_NAL_2019.txt\", delimiter = ' ')\n",
    "enp_15 = pd.read_table(\"data/DTL_ENP_2015.txt\", delimiter = ' ')\n",
    "enp_16 = pd.read_table(\"data/DTL_ENP_2016.txt\", delimiter = ' ')\n",
    "enp_17 = pd.read_table(\"data/DTL_ENP_2017.txt\", delimiter = ' ')\n",
    "enp_18 = pd.read_table(\"data/DTL_ENP_2018.txt\", delimiter = ' ')\n",
    "enp_19 = pd.read_table(\"data/DTL_ENP_2019.txt\", delimiter = ' ')\n",
    "total = pd.concat([nal_15, nal_16, nal_17, nal_18, nal_19, enp_15, enp_16, enp_17, enp_18, enp_19], ignore_index = True)\n",
    "\n",
    "total.columns = ['YEAR', \"PART_ID\", \"NAME\", \"DATETIME\", \"LAT\", \"LON\", \"WIND\", \"PRESSURE\", \"CATEGORY\", \"DISTANCE\"]\n",
    "\n",
    "total['DATETIME'] = pd.to_datetime(total['DATETIME'], format = \"%Y%m%d%H\")\n",
    "total['NAME'] = total['NAME'].str.upper()\n",
    "name_convert = {'UNNAMED04': 'FOUR', \n",
    "                'UNNAMED11': 'ELEVEN',\n",
    "                'UNNAMED08': 'EIGHT'}\n",
    "total['NAME'].loc[total['NAME'].str.contains('UNNAMED')] = [name_convert[x] for x in total['NAME'].loc[total['NAME'].str.contains('UNNAMED')]]\n",
    "total['ID'] = total['PART_ID'] + total['YEAR'].astype(str)\n",
    "hurdat_all = h.Hurdat(data = total)"
   ]
  },
  {
   "cell_type": "code",
   "execution_count": 3,
   "metadata": {},
   "outputs": [],
   "source": [
    "# Filter storms by minimum intensity of 50\n",
    "hurdat = hurdat_all.genesis_to_lysis_filter(minimum_wind = 50)\n",
    "# Add RI / RW labels to all storm observations\n",
    "hurdat.identify_events(threshold = 25)"
   ]
  },
  {
   "cell_type": "code",
   "execution_count": 4,
   "metadata": {},
   "outputs": [],
   "source": [
    "# Next comes the fun part of taking each of the storms listed below and doing the following:\n",
    "\n",
    "# FIRST: add the 250 km(? look up true dist) from land restriction and add as a column BEFORE calculating RI/RW (or have it done within the RI/RW function) so that RI/RW events are not marked true if within that range (or something like that)\n",
    "\n",
    "# Pull GFS data\n",
    "# Find true storm center\n",
    "# Remove vorticity from the data (could do this within the tc_functions world).\n",
    "# Calculate wind shear radial profiles for each observation.\n",
    "# Figure out how to store the above wind shear profiles efficiently and smartly for all data.\n",
    "\n",
    "# Think about turnng tc_functions into a class? We will see"
   ]
  },
  {
   "cell_type": "code",
   "execution_count": 5,
   "metadata": {},
   "outputs": [
    {
     "output_type": "execute_result",
     "data": {
      "text/plain": [
       "     CATEGORY   LAT    LON  WIND        ID    NAME            DATETIME     RI  \\\n",
       "0          SS  31.9  -77.3    50  AL012015     ANA 2015-05-09 00:00:00  False   \n",
       "1          TS  32.2  -77.5    50  AL012015     ANA 2015-05-09 06:00:00  False   \n",
       "2          TS  32.5  -77.8    50  AL012015     ANA 2015-05-09 12:00:00  False   \n",
       "3          TS  28.0  -96.0    50  AL022015    BILL 2015-06-16 12:00:00  False   \n",
       "4          TS  28.2  -96.7    50  AL022015    BILL 2015-06-16 18:00:00  False   \n",
       "...       ...   ...    ...   ...       ...     ...                 ...    ...   \n",
       "2554       HU  22.6 -108.8    65  EP152019  LORENA 2019-09-20 12:00:00  False   \n",
       "2555       HU  23.0 -109.2    75  EP152019  LORENA 2019-09-20 18:00:00  False   \n",
       "2556       HU  23.7 -109.5    70  EP152019  LORENA 2019-09-21 00:00:00  False   \n",
       "2557       TS  24.2 -110.2    60  EP152019  LORENA 2019-09-21 06:00:00  False   \n",
       "2558       TS  25.0 -110.6    55  EP152019  LORENA 2019-09-21 12:00:00  False   \n",
       "\n",
       "         RW  \n",
       "0     False  \n",
       "1     False  \n",
       "2     False  \n",
       "3     False  \n",
       "4     False  \n",
       "...     ...  \n",
       "2554  False  \n",
       "2555  False  \n",
       "2556  False  \n",
       "2557  False  \n",
       "2558  False  \n",
       "\n",
       "[2559 rows x 9 columns]"
      ],
      "text/html": "<div>\n<style scoped>\n    .dataframe tbody tr th:only-of-type {\n        vertical-align: middle;\n    }\n\n    .dataframe tbody tr th {\n        vertical-align: top;\n    }\n\n    .dataframe thead th {\n        text-align: right;\n    }\n</style>\n<table border=\"1\" class=\"dataframe\">\n  <thead>\n    <tr style=\"text-align: right;\">\n      <th></th>\n      <th>CATEGORY</th>\n      <th>LAT</th>\n      <th>LON</th>\n      <th>WIND</th>\n      <th>ID</th>\n      <th>NAME</th>\n      <th>DATETIME</th>\n      <th>RI</th>\n      <th>RW</th>\n    </tr>\n  </thead>\n  <tbody>\n    <tr>\n      <th>0</th>\n      <td>SS</td>\n      <td>31.9</td>\n      <td>-77.3</td>\n      <td>50</td>\n      <td>AL012015</td>\n      <td>ANA</td>\n      <td>2015-05-09 00:00:00</td>\n      <td>False</td>\n      <td>False</td>\n    </tr>\n    <tr>\n      <th>1</th>\n      <td>TS</td>\n      <td>32.2</td>\n      <td>-77.5</td>\n      <td>50</td>\n      <td>AL012015</td>\n      <td>ANA</td>\n      <td>2015-05-09 06:00:00</td>\n      <td>False</td>\n      <td>False</td>\n    </tr>\n    <tr>\n      <th>2</th>\n      <td>TS</td>\n      <td>32.5</td>\n      <td>-77.8</td>\n      <td>50</td>\n      <td>AL012015</td>\n      <td>ANA</td>\n      <td>2015-05-09 12:00:00</td>\n      <td>False</td>\n      <td>False</td>\n    </tr>\n    <tr>\n      <th>3</th>\n      <td>TS</td>\n      <td>28.0</td>\n      <td>-96.0</td>\n      <td>50</td>\n      <td>AL022015</td>\n      <td>BILL</td>\n      <td>2015-06-16 12:00:00</td>\n      <td>False</td>\n      <td>False</td>\n    </tr>\n    <tr>\n      <th>4</th>\n      <td>TS</td>\n      <td>28.2</td>\n      <td>-96.7</td>\n      <td>50</td>\n      <td>AL022015</td>\n      <td>BILL</td>\n      <td>2015-06-16 18:00:00</td>\n      <td>False</td>\n      <td>False</td>\n    </tr>\n    <tr>\n      <th>...</th>\n      <td>...</td>\n      <td>...</td>\n      <td>...</td>\n      <td>...</td>\n      <td>...</td>\n      <td>...</td>\n      <td>...</td>\n      <td>...</td>\n      <td>...</td>\n    </tr>\n    <tr>\n      <th>2554</th>\n      <td>HU</td>\n      <td>22.6</td>\n      <td>-108.8</td>\n      <td>65</td>\n      <td>EP152019</td>\n      <td>LORENA</td>\n      <td>2019-09-20 12:00:00</td>\n      <td>False</td>\n      <td>False</td>\n    </tr>\n    <tr>\n      <th>2555</th>\n      <td>HU</td>\n      <td>23.0</td>\n      <td>-109.2</td>\n      <td>75</td>\n      <td>EP152019</td>\n      <td>LORENA</td>\n      <td>2019-09-20 18:00:00</td>\n      <td>False</td>\n      <td>False</td>\n    </tr>\n    <tr>\n      <th>2556</th>\n      <td>HU</td>\n      <td>23.7</td>\n      <td>-109.5</td>\n      <td>70</td>\n      <td>EP152019</td>\n      <td>LORENA</td>\n      <td>2019-09-21 00:00:00</td>\n      <td>False</td>\n      <td>False</td>\n    </tr>\n    <tr>\n      <th>2557</th>\n      <td>TS</td>\n      <td>24.2</td>\n      <td>-110.2</td>\n      <td>60</td>\n      <td>EP152019</td>\n      <td>LORENA</td>\n      <td>2019-09-21 06:00:00</td>\n      <td>False</td>\n      <td>False</td>\n    </tr>\n    <tr>\n      <th>2558</th>\n      <td>TS</td>\n      <td>25.0</td>\n      <td>-110.6</td>\n      <td>55</td>\n      <td>EP152019</td>\n      <td>LORENA</td>\n      <td>2019-09-21 12:00:00</td>\n      <td>False</td>\n      <td>False</td>\n    </tr>\n  </tbody>\n</table>\n<p>2559 rows × 9 columns</p>\n</div>"
     },
     "metadata": {},
     "execution_count": 5
    }
   ],
   "source": [
    "hurdat.storms"
   ]
  },
  {
   "cell_type": "code",
   "execution_count": null,
   "metadata": {},
   "outputs": [],
   "source": []
  }
 ]
}